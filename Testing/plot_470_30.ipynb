{
 "cells": [
  {
   "cell_type": "code",
   "execution_count": 1,
   "metadata": {},
   "outputs": [],
   "source": [
    "import csv\n",
    "import numpy as np\n",
    "import matplotlib.pyplot as plt\n",
    "\n",
    "\n",
    "\n",
    "with open(\"470_30.csv\") as f_470_30:\n",
    "    reader = csv.reader(f_470_30)\n",
    "#    next(reader) # skip header\n",
    "    data_470_30 = [r for r in reader]  "
   ]
  },
  {
   "cell_type": "code",
   "execution_count": 2,
   "metadata": {},
   "outputs": [
    {
     "data": {
      "image/png": "[encoded data removed]",
      "text/plain": [
       "<Figure size 432x288 with 1 Axes>"
      ]
     },
     "metadata": {
      "needs_background": "light"
     },
     "output_type": "display_data"
    }
   ],
   "source": [
    "frame_rate_470_30 = 38\n",
    "\n",
    "x_data_470_30 = []\n",
    "y_data_470_30 = []\n",
    "\n",
    "for i in range(len(data_470_30)):\n",
    "    x_data_470_30.append(i/frame_rate_470_30)\n",
    "    y_data_470_30.append(float(data_470_30[i][0]))   \n",
    "\n",
    "f = plt.figure()\n",
    "\n",
    "plt.plot(x_data_470_30,y_data_470_30,marker='o',color='y',label=\"470_30\")\n",
    "plt.xlim(0,140)\n",
    "plt.xlabel('time (seconds)')\n",
    "plt.ylabel('radias (pixels)')\n",
    "plt.legend()\n",
    "#plt.show()\n",
    "f.savefig(\"plot.pdf\", bbox_inches='tight')"
   ]
  },
  {
   "cell_type": "code",
   "execution_count": 3,
   "metadata": {},
   "outputs": [],
   "source": [
    "def PIPR(filename):   # filename is '470_8', '470_30', '610_8', or '610_30'\n",
    "    print(filename)\n",
    "    if filename == '470_8':\n",
    "        frame_rate = frame_rate_470_8\n",
    "        y_data = y_data_470_8\n",
    "    elif filename == '470_30':\n",
    "        frame_rate = frame_rate_470_30\n",
    "        y_data = y_data_470_30\n",
    "    elif filename == '610_8':\n",
    "        frame_rate = frame_rate_610_8\n",
    "        y_data = y_data_610_8\n",
    "    elif filename == '610_30':\n",
    "        frame_rate = frame_rate_610_30\n",
    "        y_data = y_data_610_30\n",
    "    else:\n",
    "        print('Wrong parameter!')\n",
    "        return\n",
    "        \n",
    "    baseline_start_frame = frame_rate*3      # from 4 sec\n",
    "    baseline_end_frame = frame_rate*10       # to 10 sec\n",
    "\n",
    "    onset1_start_frame = frame_rate*11      # from 12 sec\n",
    "    onset1_end_frame = frame_rate*15        # to 15 sec\n",
    "    offset1_start_frame = frame_rate*25     # from 26 sec\n",
    "    offset1_end_frame = frame_rate*45       # to 45 sec\n",
    "\n",
    "    onset2_start_frame = frame_rate*46      # from 47 sec\n",
    "    onset2_end_frame = frame_rate*50        # to 50 sec\n",
    "    offset2_start_frame = frame_rate*60     # from 61 sec\n",
    "    offset2_end_frame = frame_rate*80       # to 80 sec\n",
    "\n",
    "    onset3_start_frame = frame_rate*81      # from 82 sec\n",
    "    onset3_end_frame = frame_rate*85        # to 85 sec\n",
    "    offset3_start_frame = frame_rate*95     # from 96 sec\n",
    "    offset3_end_frame = frame_rate*115      # to 115 sec\n",
    "\n",
    "    temp = y_data[baseline_start_frame:baseline_end_frame]\n",
    "    baseline_pupil_diameter = sum(temp)/len(temp)\n",
    "    print(\"baseline:\", baseline_pupil_diameter)\n",
    "    print()\n",
    "\n",
    "    temp = y_data[offset1_start_frame:offset1_end_frame]\n",
    "    sustained1_pupil_diameter = sum(temp)/len(temp)\n",
    "    PIPR1 = baseline_pupil_diameter - sustained1_pupil_diameter\n",
    "    PIPR1_Change = PIPR1*100/baseline_pupil_diameter\n",
    "    print(\"sustained(1st time):\", sustained1_pupil_diameter)\n",
    "    print(\"PIPR(1st time):\", PIPR1)\n",
    "    print(\"PIPR Change(%)(1st time):\", PIPR1_Change)\n",
    "    print()\n",
    "\n",
    "    temp = y_data[offset2_start_frame:offset2_end_frame]\n",
    "    sustained2_pupil_diameter = sum(temp)/len(temp)\n",
    "    PIPR2 = baseline_pupil_diameter - sustained2_pupil_diameter\n",
    "    PIPR2_Change = PIPR2*100/baseline_pupil_diameter\n",
    "    print(\"sustained(2nd time):\", sustained2_pupil_diameter)\n",
    "    print(\"PIPR(2nd time):\", PIPR2)\n",
    "    print(\"PIPR Change(%)(2nd time):\", PIPR2_Change)\n",
    "    print()\n",
    "\n",
    "    temp = y_data[offset3_start_frame:offset3_end_frame]\n",
    "    sustained3_pupil_diameter = sum(temp)/len(temp)\n",
    "    PIPR3 = baseline_pupil_diameter - sustained3_pupil_diameter\n",
    "    PIPR3_Change = PIPR3*100/baseline_pupil_diameter\n",
    "    print(\"sustained(3rd time):\", sustained3_pupil_diameter)\n",
    "    print(\"PIPR(3rd time):\", PIPR3)\n",
    "    print(\"PIPR Change(%)(3rd time):\", PIPR3_Change)\n",
    "    print()"
   ]
  },
  {
   "cell_type": "code",
   "execution_count": 4,
   "metadata": {},
   "outputs": [
    {
     "name": "stdout",
     "output_type": "stream",
     "text": [
      "470_30\n",
      "baseline: 237.95235444805735\n",
      "\n",
      "sustained(1st time): 220.48959721867263\n",
      "PIPR(1st time): 17.46275722938472\n",
      "PIPR Change(%)(1st time): 7.338762110545398\n",
      "\n",
      "sustained(2nd time): 202.60889536878514\n",
      "PIPR(2nd time): 35.34345907927221\n",
      "PIPR Change(%)(2nd time): 14.853166366541389\n",
      "\n",
      "sustained(3rd time): 204.22489517869406\n",
      "PIPR(3rd time): 33.727459269363294\n",
      "PIPR Change(%)(3rd time): 14.174038894297079\n",
      "\n"
     ]
    }
   ],
   "source": [
    "PIPR('470_30')"
   ]
  }
 ],
 "metadata": {
  "kernelspec": {
   "display_name": "Python 3 (ipykernel)",
   "language": "python",
   "name": "python3"
  },
  "language_info": {
   "codemirror_mode": {
    "name": "ipython",
    "version": 3
   },
   "file_extension": ".py",
   "mimetype": "text/x-python",
   "name": "python",
   "nbconvert_exporter": "python",
   "pygments_lexer": "ipython3",
   "version": "3.9.7"
  }
 },
 "nbformat": 4,
 "nbformat_minor": 4
}
